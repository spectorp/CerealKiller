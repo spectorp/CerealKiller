{
 "cells": [
  {
   "cell_type": "markdown",
   "metadata": {},
   "source": [
    "# Mess around with Open Food Facts python API"
   ]
  },
  {
   "cell_type": "code",
   "execution_count": 61,
   "metadata": {},
   "outputs": [],
   "source": [
    "import openfoodfacts\n",
    "\n",
    "search_result = openfoodfacts.products.advanced_search({\n",
    "  \"search_terms\":\"Honey Bunches of Oats Almonds\",\n",
    "  \"tagtype_0\":\"countries\",\n",
    "  \"tag_contains_0\":\"contains\",\n",
    "  \"tag_0\":\"united states\",\n",
    "  \"sort_by\":\"unique_scans\",\n",
    "  \"page_size\":\"20\"\n",
    "})"
   ]
  },
  {
   "cell_type": "code",
   "execution_count": 62,
   "metadata": {},
   "outputs": [
    {
     "name": "stdout",
     "output_type": "stream",
     "text": [
      "Honey Bunches Of Oats, Cereal With Almonds\n",
      "Cereal with almonds, almonds\n",
      "Cereal With Crispy Almonds\n",
      "Chocolatey almond crunch whole grain cereal\n",
      "Almonds\n"
     ]
    }
   ],
   "source": [
    "for product in search_result['products']:\n",
    "    print(product['product_name'])"
   ]
  },
  {
   "cell_type": "code",
   "execution_count": 63,
   "metadata": {},
   "outputs": [
    {
     "data": {
      "text/plain": [
       "['en:gluten', 'en:nuts']"
      ]
     },
     "execution_count": 63,
     "metadata": {},
     "output_type": "execute_result"
    }
   ],
   "source": [
    "search_result['products'][1]['allergens_tags']\n"
   ]
  }
 ],
 "metadata": {
  "kernelspec": {
   "display_name": "Python [conda env:cerealkiller_py37]",
   "language": "python",
   "name": "conda-env-cerealkiller_py37-py"
  },
  "language_info": {
   "codemirror_mode": {
    "name": "ipython",
    "version": 3
   },
   "file_extension": ".py",
   "mimetype": "text/x-python",
   "name": "python",
   "nbconvert_exporter": "python",
   "pygments_lexer": "ipython3",
   "version": "3.7.7"
  }
 },
 "nbformat": 4,
 "nbformat_minor": 4
}
